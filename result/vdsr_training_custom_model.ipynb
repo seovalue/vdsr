{
  "nbformat": 4,
  "nbformat_minor": 0,
  "metadata": {
    "colab": {
      "name": "vdsr_training_custom_model.ipynb",
      "provenance": [],
      "mount_file_id": "1U44ipk209XZvMpUxtrx0UyKeAnsQGuY9",
      "authorship_tag": "ABX9TyMYj2tCJO1zew+Y66H+xeZO",
      "include_colab_link": true
    },
    "kernelspec": {
      "name": "python3",
      "display_name": "Python 3"
    },
    "language_info": {
      "name": "python"
    },
    "accelerator": "GPU"
  },
  "cells": [
    {
      "cell_type": "markdown",
      "metadata": {
        "id": "view-in-github",
        "colab_type": "text"
      },
      "source": [
        "<a href=\"https://colab.research.google.com/github/seovalue/vdsr/blob/master/result/vdsr_training_custom_model.ipynb\" target=\"_parent\"><img src=\"https://colab.research.google.com/assets/colab-badge.svg\" alt=\"Open In Colab\"/></a>"
      ]
    },
    {
      "cell_type": "code",
      "metadata": {
        "colab": {
          "base_uri": "https://localhost:8080/"
        },
        "id": "kVHCySfGcxyz",
        "outputId": "00bd4288-82e7-46be-e408-c49633d99f26"
      },
      "source": [
        "!git clone https://github.com/seovalue/vdsr"
      ],
      "execution_count": 1,
      "outputs": [
        {
          "output_type": "stream",
          "text": [
            "Cloning into 'vdsr'...\n",
            "remote: Enumerating objects: 22, done.\u001b[K\n",
            "remote: Counting objects: 100% (22/22), done.\u001b[K\n",
            "remote: Compressing objects: 100% (17/17), done.\u001b[K\n",
            "remote: Total 22 (delta 7), reused 20 (delta 5), pack-reused 0\u001b[K\n",
            "Unpacking objects: 100% (22/22), done.\n"
          ],
          "name": "stdout"
        }
      ]
    },
    {
      "cell_type": "code",
      "metadata": {
        "colab": {
          "base_uri": "https://localhost:8080/"
        },
        "id": "hONHAvt8dFSt",
        "outputId": "569deb9b-7516-4423-afd5-1346b779a9c1"
      },
      "source": [
        "cd vdsr"
      ],
      "execution_count": 2,
      "outputs": [
        {
          "output_type": "stream",
          "text": [
            "/content/vdsr\n"
          ],
          "name": "stdout"
        }
      ]
    },
    {
      "cell_type": "code",
      "metadata": {
        "colab": {
          "base_uri": "https://localhost:8080/"
        },
        "id": "g5T7fkzDuuI1",
        "outputId": "bfc65688-aaa7-46fb-c9e4-35a060cce96a"
      },
      "source": [
        "!git pull origin master"
      ],
      "execution_count": 45,
      "outputs": [
        {
          "output_type": "stream",
          "text": [
            "remote: Enumerating objects: 5, done.\u001b[K\n",
            "remote: Counting objects:  20% (1/5)\u001b[K\rremote: Counting objects:  40% (2/5)\u001b[K\rremote: Counting objects:  60% (3/5)\u001b[K\rremote: Counting objects:  80% (4/5)\u001b[K\rremote: Counting objects: 100% (5/5)\u001b[K\rremote: Counting objects: 100% (5/5), done.\u001b[K\n",
            "remote: Compressing objects: 100% (1/1)\u001b[K\rremote: Compressing objects: 100% (1/1), done.\u001b[K\n",
            "remote: Total 3 (delta 2), reused 3 (delta 2), pack-reused 0\u001b[K\n",
            "Unpacking objects:  33% (1/3)   \rUnpacking objects:  66% (2/3)   \rUnpacking objects: 100% (3/3)   \rUnpacking objects: 100% (3/3), done.\n",
            "From https://github.com/seovalue/vdsr\n",
            " * branch            master     -> FETCH_HEAD\n",
            "   6ea2bcf..f153b94  master     -> origin/master\n",
            "Updating 6ea2bcf..f153b94\n",
            "Fast-forward\n",
            " eval.py | 6 \u001b[32m++\u001b[m\u001b[31m----\u001b[m\n",
            " 1 file changed, 2 insertions(+), 4 deletions(-)\n"
          ],
          "name": "stdout"
        }
      ]
    },
    {
      "cell_type": "code",
      "metadata": {
        "colab": {
          "resources": {
            "http://localhost:8080/nbextensions/google.colab/files.js": {
              "data": "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",
              "ok": true,
              "headers": [
                [
                  "content-type",
                  "application/javascript"
                ]
              ],
              "status": 200,
              "status_text": ""
            }
          },
          "base_uri": "https://localhost:8080/",
          "height": 76
        },
        "id": "dknQZ9gFDs3v",
        "outputId": "49587483-50f6-459b-82fc-80e6def89b23"
      },
      "source": [
        "from google.colab import files\n",
        "file_uploaded = files.upload()"
      ],
      "execution_count": 66,
      "outputs": [
        {
          "output_type": "display_data",
          "data": {
            "text/html": [
              "\n",
              "     <input type=\"file\" id=\"files-89829be2-3bec-4867-b37f-87253d935303\" name=\"files[]\" multiple disabled\n",
              "        style=\"border:none\" />\n",
              "     <output id=\"result-89829be2-3bec-4867-b37f-87253d935303\">\n",
              "      Upload widget is only available when the cell has been executed in the\n",
              "      current browser session. Please rerun this cell to enable.\n",
              "      </output>\n",
              "      <script src=\"/nbextensions/google.colab/files.js\"></script> "
            ],
            "text/plain": [
              "<IPython.core.display.HTML object>"
            ]
          },
          "metadata": {
            "tags": []
          }
        },
        {
          "output_type": "stream",
          "text": [
            "Saving model_epoch_13_p3.pth to model_epoch_13_p3.pth\n"
          ],
          "name": "stdout"
        }
      ]
    },
    {
      "cell_type": "markdown",
      "metadata": {
        "id": "vMPgO9dRS9Zf"
      },
      "source": [
        "# Conclusion"
      ]
    },
    {
      "cell_type": "markdown",
      "metadata": {
        "id": "h6Xe8PTuQd7m"
      },
      "source": [
        "\n",
        "|feature type|PSNR(image domain)|PSNR(feature domain)|PSNR(bicubic)|\n",
        "|--|--|--|--|\n",
        "|p2|31.07|31.31|30.76|\n",
        "|p3|30.28|30.64|29.73|\n",
        "|p4|27.31|27.50|26.98|\n",
        "|p5|26.4|26.55|26.19|\n",
        "|p6|24.07|23.96|23.96|\n",
        "\n"
      ]
    },
    {
      "cell_type": "markdown",
      "metadata": {
        "id": "K_FaOD2yQh2z"
      },
      "source": [
        "## Evaluation PSNR / image domain\n"
      ]
    },
    {
      "cell_type": "code",
      "metadata": {
        "colab": {
          "base_uri": "https://localhost:8080/"
        },
        "id": "rSlmCt3QQpw-",
        "outputId": "42d5a8c2-cddc-4e7c-e056-2ae8241a9b71"
      },
      "source": [
        "!python eval.py --cuda --model \"/content/vdsr/model_epoch_50.pth\" --dataset \"/content/vdsr/COCO_val2017_000000001000_p2.png\" --featureType \"p2\" --scaleFactor 4"
      ],
      "execution_count": 60,
      "outputs": [
        {
          "output_type": "stream",
          "text": [
            "=> use gpu id: '0'\n",
            "/usr/local/lib/python3.7/dist-packages/torch/serialization.py:656: SourceChangeWarning: source code of class 'torch.nn.modules.container.Sequential' has changed. you can retrieve the original source code by accessing the object's source attribute or set `torch.nn.Module.dump_patches = True` and use the patch tool to revert the changes.\n",
            "  warnings.warn(msg, SourceChangeWarning)\n",
            "/usr/local/lib/python3.7/dist-packages/torch/serialization.py:656: SourceChangeWarning: source code of class 'torch.nn.modules.conv.Conv2d' has changed. you can retrieve the original source code by accessing the object's source attribute or set `torch.nn.Module.dump_patches = True` and use the patch tool to revert the changes.\n",
            "  warnings.warn(msg, SourceChangeWarning)\n",
            "/usr/local/lib/python3.7/dist-packages/torch/serialization.py:656: SourceChangeWarning: source code of class 'torch.nn.modules.activation.ReLU' has changed. you can retrieve the original source code by accessing the object's source attribute or set `torch.nn.Module.dump_patches = True` and use the patch tool to revert the changes.\n",
            "  warnings.warn(msg, SourceChangeWarning)\n",
            "lr: (64 48), hr: (256 192)\n",
            "Scale= 4\n",
            "Dataset= /content/vdsr/COCO_val2017_000000001000_p2.png\n",
            "Average PSNR_predicted= 31.0652396718657\n",
            "Average PSNR_bicubic= 30.75691571694502\n"
          ],
          "name": "stdout"
        }
      ]
    },
    {
      "cell_type": "code",
      "metadata": {
        "colab": {
          "base_uri": "https://localhost:8080/"
        },
        "id": "mQi_T5wLRNWD",
        "outputId": "82233bcb-7852-46d7-a5ce-750c7e10ddb5"
      },
      "source": [
        "!python eval.py --cuda --model \"/content/vdsr/model_epoch_50.pth\" --dataset \"/content/vdsr/COCO_val2017_000000001000_p3.png\" --featureType \"p3\" --scaleFactor 4"
      ],
      "execution_count": 61,
      "outputs": [
        {
          "output_type": "stream",
          "text": [
            "=> use gpu id: '0'\n",
            "/usr/local/lib/python3.7/dist-packages/torch/serialization.py:656: SourceChangeWarning: source code of class 'torch.nn.modules.container.Sequential' has changed. you can retrieve the original source code by accessing the object's source attribute or set `torch.nn.Module.dump_patches = True` and use the patch tool to revert the changes.\n",
            "  warnings.warn(msg, SourceChangeWarning)\n",
            "/usr/local/lib/python3.7/dist-packages/torch/serialization.py:656: SourceChangeWarning: source code of class 'torch.nn.modules.conv.Conv2d' has changed. you can retrieve the original source code by accessing the object's source attribute or set `torch.nn.Module.dump_patches = True` and use the patch tool to revert the changes.\n",
            "  warnings.warn(msg, SourceChangeWarning)\n",
            "/usr/local/lib/python3.7/dist-packages/torch/serialization.py:656: SourceChangeWarning: source code of class 'torch.nn.modules.activation.ReLU' has changed. you can retrieve the original source code by accessing the object's source attribute or set `torch.nn.Module.dump_patches = True` and use the patch tool to revert the changes.\n",
            "  warnings.warn(msg, SourceChangeWarning)\n",
            "lr: (32 24), hr: (128 96)\n",
            "Scale= 4\n",
            "Dataset= /content/vdsr/COCO_val2017_000000001000_p3.png\n",
            "Average PSNR_predicted= 30.275244071888395\n",
            "Average PSNR_bicubic= 29.73593109495771\n"
          ],
          "name": "stdout"
        }
      ]
    },
    {
      "cell_type": "code",
      "metadata": {
        "colab": {
          "base_uri": "https://localhost:8080/"
        },
        "id": "GKW9ik3mRR2a",
        "outputId": "66ead56e-1861-4f62-c20c-47557d7fbcf5"
      },
      "source": [
        "!python eval.py --cuda --model \"/content/vdsr/model_epoch_50.pth\" --dataset \"/content/vdsr/COCO_val2017_000000001000_p4.png\" --featureType \"p4\" --scaleFactor 4"
      ],
      "execution_count": 62,
      "outputs": [
        {
          "output_type": "stream",
          "text": [
            "=> use gpu id: '0'\n",
            "/usr/local/lib/python3.7/dist-packages/torch/serialization.py:656: SourceChangeWarning: source code of class 'torch.nn.modules.container.Sequential' has changed. you can retrieve the original source code by accessing the object's source attribute or set `torch.nn.Module.dump_patches = True` and use the patch tool to revert the changes.\n",
            "  warnings.warn(msg, SourceChangeWarning)\n",
            "/usr/local/lib/python3.7/dist-packages/torch/serialization.py:656: SourceChangeWarning: source code of class 'torch.nn.modules.conv.Conv2d' has changed. you can retrieve the original source code by accessing the object's source attribute or set `torch.nn.Module.dump_patches = True` and use the patch tool to revert the changes.\n",
            "  warnings.warn(msg, SourceChangeWarning)\n",
            "/usr/local/lib/python3.7/dist-packages/torch/serialization.py:656: SourceChangeWarning: source code of class 'torch.nn.modules.activation.ReLU' has changed. you can retrieve the original source code by accessing the object's source attribute or set `torch.nn.Module.dump_patches = True` and use the patch tool to revert the changes.\n",
            "  warnings.warn(msg, SourceChangeWarning)\n",
            "lr: (16 12), hr: (64 48)\n",
            "Scale= 4\n",
            "Dataset= /content/vdsr/COCO_val2017_000000001000_p4.png\n",
            "Average PSNR_predicted= 27.31612819454516\n",
            "Average PSNR_bicubic= 26.984155861146693\n"
          ],
          "name": "stdout"
        }
      ]
    },
    {
      "cell_type": "code",
      "metadata": {
        "colab": {
          "base_uri": "https://localhost:8080/"
        },
        "id": "LMO-VmYlRWQh",
        "outputId": "e8ae40d7-f97e-4af4-c5c9-99ad7317fcd6"
      },
      "source": [
        "!python eval.py --cuda --model \"/content/vdsr/model_epoch_50.pth\" --dataset \"/content/vdsr/COCO_val2017_000000001000_p5.png\" --featureType \"p5\" --scaleFactor 4"
      ],
      "execution_count": 63,
      "outputs": [
        {
          "output_type": "stream",
          "text": [
            "=> use gpu id: '0'\n",
            "/usr/local/lib/python3.7/dist-packages/torch/serialization.py:656: SourceChangeWarning: source code of class 'torch.nn.modules.container.Sequential' has changed. you can retrieve the original source code by accessing the object's source attribute or set `torch.nn.Module.dump_patches = True` and use the patch tool to revert the changes.\n",
            "  warnings.warn(msg, SourceChangeWarning)\n",
            "/usr/local/lib/python3.7/dist-packages/torch/serialization.py:656: SourceChangeWarning: source code of class 'torch.nn.modules.conv.Conv2d' has changed. you can retrieve the original source code by accessing the object's source attribute or set `torch.nn.Module.dump_patches = True` and use the patch tool to revert the changes.\n",
            "  warnings.warn(msg, SourceChangeWarning)\n",
            "/usr/local/lib/python3.7/dist-packages/torch/serialization.py:656: SourceChangeWarning: source code of class 'torch.nn.modules.activation.ReLU' has changed. you can retrieve the original source code by accessing the object's source attribute or set `torch.nn.Module.dump_patches = True` and use the patch tool to revert the changes.\n",
            "  warnings.warn(msg, SourceChangeWarning)\n",
            "lr: (8 6), hr: (32 24)\n",
            "Scale= 4\n",
            "Dataset= /content/vdsr/COCO_val2017_000000001000_p5.png\n",
            "Average PSNR_predicted= 26.40608169247471\n",
            "Average PSNR_bicubic= 26.193622625165045\n"
          ],
          "name": "stdout"
        }
      ]
    },
    {
      "cell_type": "code",
      "metadata": {
        "colab": {
          "base_uri": "https://localhost:8080/"
        },
        "id": "31C6KDg8RZ7r",
        "outputId": "78a9afe5-43aa-46c6-813e-7a187b78430f"
      },
      "source": [
        "!python eval.py --cuda --model \"/content/vdsr/model_epoch_50.pth\" --dataset \"/content/vdsr/COCO_val2017_000000001000_p6.png\" --featureType \"p6\" --scaleFactor 4"
      ],
      "execution_count": 64,
      "outputs": [
        {
          "output_type": "stream",
          "text": [
            "=> use gpu id: '0'\n",
            "/usr/local/lib/python3.7/dist-packages/torch/serialization.py:656: SourceChangeWarning: source code of class 'torch.nn.modules.container.Sequential' has changed. you can retrieve the original source code by accessing the object's source attribute or set `torch.nn.Module.dump_patches = True` and use the patch tool to revert the changes.\n",
            "  warnings.warn(msg, SourceChangeWarning)\n",
            "/usr/local/lib/python3.7/dist-packages/torch/serialization.py:656: SourceChangeWarning: source code of class 'torch.nn.modules.conv.Conv2d' has changed. you can retrieve the original source code by accessing the object's source attribute or set `torch.nn.Module.dump_patches = True` and use the patch tool to revert the changes.\n",
            "  warnings.warn(msg, SourceChangeWarning)\n",
            "/usr/local/lib/python3.7/dist-packages/torch/serialization.py:656: SourceChangeWarning: source code of class 'torch.nn.modules.activation.ReLU' has changed. you can retrieve the original source code by accessing the object's source attribute or set `torch.nn.Module.dump_patches = True` and use the patch tool to revert the changes.\n",
            "  warnings.warn(msg, SourceChangeWarning)\n",
            "lr: (4 3), hr: (16 12)\n",
            "Scale= 4\n",
            "Dataset= /content/vdsr/COCO_val2017_000000001000_p6.png\n",
            "Average PSNR_predicted= 24.071403188751304\n",
            "Average PSNR_bicubic= 23.956434919221905\n"
          ],
          "name": "stdout"
        }
      ]
    },
    {
      "cell_type": "markdown",
      "metadata": {
        "id": "oYwJl8mJQPrH"
      },
      "source": [
        "## Evaluation PSNR - P2\n"
      ]
    },
    {
      "cell_type": "code",
      "metadata": {
        "colab": {
          "base_uri": "https://localhost:8080/"
        },
        "id": "Q5TypvXlOgoa",
        "outputId": "59530660-0db2-4dad-9553-a672e8c599a5"
      },
      "source": [
        "!python eval.py --cuda --model \"/content/vdsr/model_epoch_6.pth\" --dataset \"/content/vdsr/COCO_val2017_000000001000_p2.png\" --featureType \"p2\" --scaleFactor 4"
      ],
      "execution_count": 55,
      "outputs": [
        {
          "output_type": "stream",
          "text": [
            "=> use gpu id: '0'\n",
            "lr: (64 48), hr: (256 192)\n",
            "Scale= 4\n",
            "Dataset= /content/vdsr/COCO_val2017_000000001000_p2.png\n",
            "Average PSNR_predicted= 31.310830334172305\n",
            "Average PSNR_bicubic= 30.75691571694502\n"
          ],
          "name": "stdout"
        }
      ]
    },
    {
      "cell_type": "markdown",
      "metadata": {
        "id": "LHTUAhkaQVQ-"
      },
      "source": [
        "## Evaluation PSNR - P3"
      ]
    },
    {
      "cell_type": "code",
      "metadata": {
        "colab": {
          "base_uri": "https://localhost:8080/"
        },
        "id": "3HdA68w3PYte",
        "outputId": "f7e58108-b56e-40e0-a26a-ac6ecfb2cbf5"
      },
      "source": [
        "!python eval.py --cuda --model \"/content/vdsr/model_epoch_13_p3.pth\" --dataset \"/content/vdsr/COCO_val2017_000000001000_p3.png\" --featureType \"p3\" --scaleFactor 4"
      ],
      "execution_count": 67,
      "outputs": [
        {
          "output_type": "stream",
          "text": [
            "=> use gpu id: '0'\n",
            "lr: (32 24), hr: (128 96)\n",
            "Scale= 4\n",
            "Dataset= /content/vdsr/COCO_val2017_000000001000_p3.png\n",
            "Average PSNR_predicted= 30.640794752093473\n",
            "Average PSNR_bicubic= 29.73593109495771\n"
          ],
          "name": "stdout"
        }
      ]
    },
    {
      "cell_type": "markdown",
      "metadata": {
        "id": "BhaF2QO0QXu8"
      },
      "source": [
        "## Evaluation PSNR - P4"
      ]
    },
    {
      "cell_type": "code",
      "metadata": {
        "colab": {
          "base_uri": "https://localhost:8080/"
        },
        "id": "z0binh3yHbKs",
        "outputId": "60094098-8a42-4b4a-9166-2b04c8d8b3ce"
      },
      "source": [
        "!python eval.py --cuda --model \"/content/vdsr/checkpoint/model_epoch_21_p4.pth\" --dataset \"/content/vdsr/COCO_val2017_000000001000_p4.png\" --featureType \"p4\" --scaleFactor 4"
      ],
      "execution_count": 47,
      "outputs": [
        {
          "output_type": "stream",
          "text": [
            "=> use gpu id: '0'\n",
            "lr: (16 12), hr: (64 48)\n",
            "Scale= 4\n",
            "Dataset= /content/vdsr/COCO_val2017_000000001000_p4.png\n",
            "Average PSNR_predicted= 27.502184393383867\n",
            "Average PSNR_bicubic= 26.984155861146693\n"
          ],
          "name": "stdout"
        }
      ]
    },
    {
      "cell_type": "markdown",
      "metadata": {
        "id": "QfEhPTMBQZMB"
      },
      "source": [
        "## Evaluation PSNR - P5"
      ]
    },
    {
      "cell_type": "code",
      "metadata": {
        "colab": {
          "base_uri": "https://localhost:8080/"
        },
        "id": "BkaoSVWbNWbD",
        "outputId": "a5bdfa29-83d5-451c-f137-92336d5d41d5"
      },
      "source": [
        "!python eval.py --cuda --model \"/content/vdsr/model_epoch_30_p5.pth\" --dataset \"/content/vdsr/COCO_val2017_000000001000_p5.png\" --featureType \"p5\" --scaleFactor 4"
      ],
      "execution_count": 51,
      "outputs": [
        {
          "output_type": "stream",
          "text": [
            "=> use gpu id: '0'\n",
            "lr: (8 6), hr: (32 24)\n",
            "Scale= 4\n",
            "Dataset= /content/vdsr/COCO_val2017_000000001000_p5.png\n",
            "Average PSNR_predicted= 26.54800271663628\n",
            "Average PSNR_bicubic= 26.193622625165045\n"
          ],
          "name": "stdout"
        }
      ]
    },
    {
      "cell_type": "markdown",
      "metadata": {
        "id": "ruIwSWlSQae2"
      },
      "source": [
        "## Evaluation PSNR - P6"
      ]
    },
    {
      "cell_type": "code",
      "metadata": {
        "colab": {
          "base_uri": "https://localhost:8080/"
        },
        "id": "bhvUZGwpMAbM",
        "outputId": "49d778b7-e557-4dd3-a256-d2e564ae8209"
      },
      "source": [
        "!python eval.py --cuda --model \"/content/vdsr/checkpoint/model_epoch_27_p6.pth\" --dataset \"/content/vdsr/COCO_val2017_000000001000_p6.png\" --featureType \"p6\" --scaleFactor 4"
      ],
      "execution_count": 52,
      "outputs": [
        {
          "output_type": "stream",
          "text": [
            "=> use gpu id: '0'\n",
            "lr: (4 3), hr: (16 12)\n",
            "Scale= 4\n",
            "Dataset= /content/vdsr/COCO_val2017_000000001000_p6.png\n",
            "Average PSNR_predicted= 23.956434919221905\n",
            "Average PSNR_bicubic= 23.956434919221905\n"
          ],
          "name": "stdout"
        }
      ]
    },
    {
      "cell_type": "markdown",
      "metadata": {
        "id": "VHansz7OQcHn"
      },
      "source": [
        "# Training Code"
      ]
    },
    {
      "cell_type": "code",
      "metadata": {
        "colab": {
          "base_uri": "https://localhost:8080/"
        },
        "id": "sV0XQbAfdNCK",
        "outputId": "be6e1c0d-1cd9-4ae2-eee5-6a9160a5728a"
      },
      "source": [
        "!python main.py --dataRoot /content/drive/MyDrive/HR_trainset/features --featureType p6 --batchSize 32 --nEpochs 50 --cuda --pretrained /content/vdsr/checkpoint/model_epoch_30_p6.pth"
      ],
      "execution_count": 65,
      "outputs": [
        {
          "output_type": "stream",
          "text": [
            "Namespace(batchSize=32, clip=0.4, cuda=True, dataRoot='/content/drive/MyDrive/HR_trainset/features', featureType='p6', gpus='0', lr=0.1, momentum=0.9, nEpochs=50, pretrained='/content/vdsr/checkpoint/model_epoch_30_p6.pth', resume='', scaleFactor=4, start_epoch=1, step=10, threads=1, weight_decay=0.0001)\n",
            "=> use gpu id: '0'\n",
            "Random Seed:  9637\n",
            "===> Loading datasets\n",
            "/content/drive/MyDrive/HR_trainset/features/LR_2/p6\n",
            "lr: (4 3), hr: (16 12)\n",
            "===> Building model\n",
            "===> Setting GPU\n",
            "=> loading model '/content/vdsr/checkpoint/model_epoch_30_p6.pth'\n",
            "===> Setting Optimizer\n",
            "===> Training\n",
            "Epoch = 31, lr = 0.00010000000000000003\n",
            "/usr/local/lib/python3.7/dist-packages/torchvision/transforms/transforms.py:258: UserWarning: Argument interpolation should be of type InterpolationMode instead of int. Please, use InterpolationMode enum.\n",
            "  \"Argument interpolation should be of type InterpolationMode instead of int. \"\n",
            "===> Epoch[31]: loss : 0.0119294672 ,PSNR : 19.2337894889\n",
            "Checkpoint saved to checkpoint/model_epoch_31_p6.pth\n",
            "Epoch = 32, lr = 0.00010000000000000003\n",
            "/usr/local/lib/python3.7/dist-packages/torchvision/transforms/transforms.py:258: UserWarning: Argument interpolation should be of type InterpolationMode instead of int. Please, use InterpolationMode enum.\n",
            "  \"Argument interpolation should be of type InterpolationMode instead of int. \"\n",
            "===> Epoch[32]: loss : 0.0123670368 ,PSNR : 19.0773434271\n",
            "Checkpoint saved to checkpoint/model_epoch_32_p6.pth\n",
            "Epoch = 33, lr = 0.00010000000000000003\n",
            "/usr/local/lib/python3.7/dist-packages/torchvision/transforms/transforms.py:258: UserWarning: Argument interpolation should be of type InterpolationMode instead of int. Please, use InterpolationMode enum.\n",
            "  \"Argument interpolation should be of type InterpolationMode instead of int. \"\n",
            "===> Epoch[33]: loss : 0.0125215244 ,PSNR : 19.0234279138\n",
            "Checkpoint saved to checkpoint/model_epoch_33_p6.pth\n",
            "Epoch = 34, lr = 0.00010000000000000003\n",
            "/usr/local/lib/python3.7/dist-packages/torchvision/transforms/transforms.py:258: UserWarning: Argument interpolation should be of type InterpolationMode instead of int. Please, use InterpolationMode enum.\n",
            "  \"Argument interpolation should be of type InterpolationMode instead of int. \"\n",
            "===> Epoch[34]: loss : 0.0107973108 ,PSNR : 19.6668439211\n",
            "Checkpoint saved to checkpoint/model_epoch_34_p6.pth\n",
            "Epoch = 35, lr = 0.00010000000000000003\n",
            "/usr/local/lib/python3.7/dist-packages/torchvision/transforms/transforms.py:258: UserWarning: Argument interpolation should be of type InterpolationMode instead of int. Please, use InterpolationMode enum.\n",
            "  \"Argument interpolation should be of type InterpolationMode instead of int. \"\n",
            "===> Epoch[35]: loss : 0.0110896511 ,PSNR : 19.5508211309\n",
            "Checkpoint saved to checkpoint/model_epoch_35_p6.pth\n",
            "Epoch = 36, lr = 0.00010000000000000003\n",
            "/usr/local/lib/python3.7/dist-packages/torchvision/transforms/transforms.py:258: UserWarning: Argument interpolation should be of type InterpolationMode instead of int. Please, use InterpolationMode enum.\n",
            "  \"Argument interpolation should be of type InterpolationMode instead of int. \"\n",
            "===> Epoch[36]: loss : 0.0104444160 ,PSNR : 19.8111583252\n",
            "Checkpoint saved to checkpoint/model_epoch_36_p6.pth\n",
            "Epoch = 37, lr = 0.00010000000000000003\n",
            "/usr/local/lib/python3.7/dist-packages/torchvision/transforms/transforms.py:258: UserWarning: Argument interpolation should be of type InterpolationMode instead of int. Please, use InterpolationMode enum.\n",
            "  \"Argument interpolation should be of type InterpolationMode instead of int. \"\n",
            "===> Epoch[37]: loss : 0.0114174261 ,PSNR : 19.4243178655\n",
            "Checkpoint saved to checkpoint/model_epoch_37_p6.pth\n",
            "Epoch = 38, lr = 0.00010000000000000003\n",
            "/usr/local/lib/python3.7/dist-packages/torchvision/transforms/transforms.py:258: UserWarning: Argument interpolation should be of type InterpolationMode instead of int. Please, use InterpolationMode enum.\n",
            "  \"Argument interpolation should be of type InterpolationMode instead of int. \"\n",
            "===> Epoch[38]: loss : 0.0124741116 ,PSNR : 19.0399037285\n",
            "Checkpoint saved to checkpoint/model_epoch_38_p6.pth\n",
            "Epoch = 39, lr = 0.00010000000000000003\n",
            "/usr/local/lib/python3.7/dist-packages/torchvision/transforms/transforms.py:258: UserWarning: Argument interpolation should be of type InterpolationMode instead of int. Please, use InterpolationMode enum.\n",
            "  \"Argument interpolation should be of type InterpolationMode instead of int. \"\n",
            "===> Epoch[39]: loss : 0.0130580025 ,PSNR : 18.8412325019\n",
            "Checkpoint saved to checkpoint/model_epoch_39_p6.pth\n",
            "Epoch = 40, lr = 0.00010000000000000003\n",
            "/usr/local/lib/python3.7/dist-packages/torchvision/transforms/transforms.py:258: UserWarning: Argument interpolation should be of type InterpolationMode instead of int. Please, use InterpolationMode enum.\n",
            "  \"Argument interpolation should be of type InterpolationMode instead of int. \"\n",
            "===> Epoch[40]: loss : 0.0109654226 ,PSNR : 19.5997462109\n",
            "Checkpoint saved to checkpoint/model_epoch_40_p6.pth\n",
            "Epoch = 41, lr = 1.0000000000000003e-05\n",
            "/usr/local/lib/python3.7/dist-packages/torchvision/transforms/transforms.py:258: UserWarning: Argument interpolation should be of type InterpolationMode instead of int. Please, use InterpolationMode enum.\n",
            "  \"Argument interpolation should be of type InterpolationMode instead of int. \"\n",
            "===> Epoch[41]: loss : 0.0122298832 ,PSNR : 19.1257768728\n",
            "Checkpoint saved to checkpoint/model_epoch_41_p6.pth\n",
            "Epoch = 42, lr = 1.0000000000000003e-05\n",
            "/usr/local/lib/python3.7/dist-packages/torchvision/transforms/transforms.py:258: UserWarning: Argument interpolation should be of type InterpolationMode instead of int. Please, use InterpolationMode enum.\n",
            "  \"Argument interpolation should be of type InterpolationMode instead of int. \"\n",
            "===> Epoch[42]: loss : 0.0111060925 ,PSNR : 19.5443871164\n",
            "Checkpoint saved to checkpoint/model_epoch_42_p6.pth\n",
            "Epoch = 43, lr = 1.0000000000000003e-05\n",
            "/usr/local/lib/python3.7/dist-packages/torchvision/transforms/transforms.py:258: UserWarning: Argument interpolation should be of type InterpolationMode instead of int. Please, use InterpolationMode enum.\n",
            "  \"Argument interpolation should be of type InterpolationMode instead of int. \"\n",
            "===> Epoch[43]: loss : 0.0119284916 ,PSNR : 19.2341446757\n",
            "Checkpoint saved to checkpoint/model_epoch_43_p6.pth\n",
            "Epoch = 44, lr = 1.0000000000000003e-05\n",
            "/usr/local/lib/python3.7/dist-packages/torchvision/transforms/transforms.py:258: UserWarning: Argument interpolation should be of type InterpolationMode instead of int. Please, use InterpolationMode enum.\n",
            "  \"Argument interpolation should be of type InterpolationMode instead of int. \"\n",
            "===> Epoch[44]: loss : 0.0110978184 ,PSNR : 19.5476238315\n",
            "Checkpoint saved to checkpoint/model_epoch_44_p6.pth\n",
            "Epoch = 45, lr = 1.0000000000000003e-05\n",
            "/usr/local/lib/python3.7/dist-packages/torchvision/transforms/transforms.py:258: UserWarning: Argument interpolation should be of type InterpolationMode instead of int. Please, use InterpolationMode enum.\n",
            "  \"Argument interpolation should be of type InterpolationMode instead of int. \"\n",
            "===> Epoch[45]: loss : 0.0115230160 ,PSNR : 19.3843383222\n",
            "Checkpoint saved to checkpoint/model_epoch_45_p6.pth\n",
            "Epoch = 46, lr = 1.0000000000000003e-05\n",
            "/usr/local/lib/python3.7/dist-packages/torchvision/transforms/transforms.py:258: UserWarning: Argument interpolation should be of type InterpolationMode instead of int. Please, use InterpolationMode enum.\n",
            "  \"Argument interpolation should be of type InterpolationMode instead of int. \"\n",
            "===> Epoch[46]: loss : 0.0101616001 ,PSNR : 19.9303789551\n",
            "Checkpoint saved to checkpoint/model_epoch_46_p6.pth\n",
            "Epoch = 47, lr = 1.0000000000000003e-05\n",
            "/usr/local/lib/python3.7/dist-packages/torchvision/transforms/transforms.py:258: UserWarning: Argument interpolation should be of type InterpolationMode instead of int. Please, use InterpolationMode enum.\n",
            "  \"Argument interpolation should be of type InterpolationMode instead of int. \"\n",
            "===> Epoch[47]: loss : 0.0104368801 ,PSNR : 19.8142930108\n",
            "Checkpoint saved to checkpoint/model_epoch_47_p6.pth\n",
            "Epoch = 48, lr = 1.0000000000000003e-05\n",
            "/usr/local/lib/python3.7/dist-packages/torchvision/transforms/transforms.py:258: UserWarning: Argument interpolation should be of type InterpolationMode instead of int. Please, use InterpolationMode enum.\n",
            "  \"Argument interpolation should be of type InterpolationMode instead of int. \"\n",
            "===> Epoch[48]: loss : 0.0121325741 ,PSNR : 19.1604704463\n",
            "Checkpoint saved to checkpoint/model_epoch_48_p6.pth\n",
            "Epoch = 49, lr = 1.0000000000000003e-05\n",
            "/usr/local/lib/python3.7/dist-packages/torchvision/transforms/transforms.py:258: UserWarning: Argument interpolation should be of type InterpolationMode instead of int. Please, use InterpolationMode enum.\n",
            "  \"Argument interpolation should be of type InterpolationMode instead of int. \"\n",
            "===> Epoch[49]: loss : 0.0126222935 ,PSNR : 18.9886172312\n",
            "Checkpoint saved to checkpoint/model_epoch_49_p6.pth\n",
            "Epoch = 50, lr = 1.0000000000000003e-05\n",
            "/usr/local/lib/python3.7/dist-packages/torchvision/transforms/transforms.py:258: UserWarning: Argument interpolation should be of type InterpolationMode instead of int. Please, use InterpolationMode enum.\n",
            "  \"Argument interpolation should be of type InterpolationMode instead of int. \"\n",
            "===> Epoch[50]: loss : 0.0121914434 ,PSNR : 19.1394486815\n",
            "Checkpoint saved to checkpoint/model_epoch_50_p6.pth\n"
          ],
          "name": "stdout"
        }
      ]
    },
    {
      "cell_type": "code",
      "metadata": {
        "colab": {
          "base_uri": "https://localhost:8080/"
        },
        "id": "Fhw_EwF1dHJN",
        "outputId": "4ff62541-a47a-4d3b-ba7a-720047fa5341"
      },
      "source": [
        "!python main.py --dataRoot /content/drive/MyDrive/HR_trainset/features --featureType p4 --batchSize 16 --nEpochs 30 --cuda --pretrained /content/vdsr/checkpoint/model_epoch_20.pth"
      ],
      "execution_count": 6,
      "outputs": [
        {
          "output_type": "stream",
          "text": [
            "Namespace(batchSize=16, clip=0.4, cuda=True, dataRoot='/content/drive/MyDrive/HR_trainset/features', featureType='p4', gpus='0', lr=0.1, momentum=0.9, nEpochs=30, pretrained='/content/vdsr/checkpoint/model_epoch_20.pth', resume='', scaleFactor=4, start_epoch=1, step=10, threads=1, weight_decay=0.0001)\n",
            "=> use gpu id: '0'\n",
            "Random Seed:  2153\n",
            "===> Loading datasets\n",
            "/content/drive/MyDrive/HR_trainset/features/LR_2/p4\n",
            "lr: (16 12), hr: (64 48)\n",
            "===> Building model\n",
            "===> Setting GPU\n",
            "=> loading model '/content/vdsr/checkpoint/model_epoch_20.pth'\n",
            "===> Setting Optimizer\n",
            "===> Training\n",
            "Epoch = 21, lr = 0.0010000000000000002\n",
            "/usr/local/lib/python3.7/dist-packages/torchvision/transforms/transforms.py:258: UserWarning: Argument interpolation should be of type InterpolationMode instead of int. Please, use InterpolationMode enum.\n",
            "  \"Argument interpolation should be of type InterpolationMode instead of int. \"\n",
            "===> Epoch[21]: loss : 0.0085771084 ,PSNR : 20.6665909694\n",
            "Checkpoint saved to checkpoint/model_epoch_21_p4.pth\n",
            "Epoch = 22, lr = 0.0010000000000000002\n",
            "/usr/local/lib/python3.7/dist-packages/torchvision/transforms/transforms.py:258: UserWarning: Argument interpolation should be of type InterpolationMode instead of int. Please, use InterpolationMode enum.\n",
            "  \"Argument interpolation should be of type InterpolationMode instead of int. \"\n",
            "===> Epoch[22]: loss : 0.0114960203 ,PSNR : 19.3945247356\n",
            "Checkpoint saved to checkpoint/model_epoch_22_p4.pth\n",
            "Epoch = 23, lr = 0.0010000000000000002\n",
            "/usr/local/lib/python3.7/dist-packages/torchvision/transforms/transforms.py:258: UserWarning: Argument interpolation should be of type InterpolationMode instead of int. Please, use InterpolationMode enum.\n",
            "  \"Argument interpolation should be of type InterpolationMode instead of int. \"\n",
            "===> Epoch[23]: loss : 0.0105675917 ,PSNR : 19.7602397214\n",
            "Checkpoint saved to checkpoint/model_epoch_23_p4.pth\n",
            "Epoch = 24, lr = 0.0010000000000000002\n",
            "/usr/local/lib/python3.7/dist-packages/torchvision/transforms/transforms.py:258: UserWarning: Argument interpolation should be of type InterpolationMode instead of int. Please, use InterpolationMode enum.\n",
            "  \"Argument interpolation should be of type InterpolationMode instead of int. \"\n",
            "===> Epoch[24]: loss : 0.0133915968 ,PSNR : 18.7316763203\n",
            "Checkpoint saved to checkpoint/model_epoch_24_p4.pth\n",
            "Epoch = 25, lr = 0.0010000000000000002\n",
            "/usr/local/lib/python3.7/dist-packages/torchvision/transforms/transforms.py:258: UserWarning: Argument interpolation should be of type InterpolationMode instead of int. Please, use InterpolationMode enum.\n",
            "  \"Argument interpolation should be of type InterpolationMode instead of int. \"\n",
            "===> Epoch[25]: loss : 0.0089380989 ,PSNR : 20.4875483896\n",
            "Checkpoint saved to checkpoint/model_epoch_25_p4.pth\n",
            "Epoch = 26, lr = 0.0010000000000000002\n",
            "/usr/local/lib/python3.7/dist-packages/torchvision/transforms/transforms.py:258: UserWarning: Argument interpolation should be of type InterpolationMode instead of int. Please, use InterpolationMode enum.\n",
            "  \"Argument interpolation should be of type InterpolationMode instead of int. \"\n",
            "===> Epoch[26]: loss : 0.0111658974 ,PSNR : 19.5210636437\n",
            "Checkpoint saved to checkpoint/model_epoch_26_p4.pth\n",
            "Epoch = 27, lr = 0.0010000000000000002\n",
            "/usr/local/lib/python3.7/dist-packages/torchvision/transforms/transforms.py:258: UserWarning: Argument interpolation should be of type InterpolationMode instead of int. Please, use InterpolationMode enum.\n",
            "  \"Argument interpolation should be of type InterpolationMode instead of int. \"\n",
            "===> Epoch[27]: loss : 0.0092087860 ,PSNR : 20.3579761412\n",
            "Checkpoint saved to checkpoint/model_epoch_27_p4.pth\n",
            "Epoch = 28, lr = 0.0010000000000000002\n",
            "/usr/local/lib/python3.7/dist-packages/torchvision/transforms/transforms.py:258: UserWarning: Argument interpolation should be of type InterpolationMode instead of int. Please, use InterpolationMode enum.\n",
            "  \"Argument interpolation should be of type InterpolationMode instead of int. \"\n",
            "===> Epoch[28]: loss : 0.0110445690 ,PSNR : 19.5685122270\n",
            "Checkpoint saved to checkpoint/model_epoch_28_p4.pth\n",
            "Epoch = 29, lr = 0.0010000000000000002\n",
            "/usr/local/lib/python3.7/dist-packages/torchvision/transforms/transforms.py:258: UserWarning: Argument interpolation should be of type InterpolationMode instead of int. Please, use InterpolationMode enum.\n",
            "  \"Argument interpolation should be of type InterpolationMode instead of int. \"\n",
            "===> Epoch[29]: loss : 0.0105883255 ,PSNR : 19.7517271222\n",
            "Checkpoint saved to checkpoint/model_epoch_29_p4.pth\n",
            "Epoch = 30, lr = 0.0010000000000000002\n",
            "/usr/local/lib/python3.7/dist-packages/torchvision/transforms/transforms.py:258: UserWarning: Argument interpolation should be of type InterpolationMode instead of int. Please, use InterpolationMode enum.\n",
            "  \"Argument interpolation should be of type InterpolationMode instead of int. \"\n",
            "===> Epoch[30]: loss : 0.0115921898 ,PSNR : 19.3583451341\n",
            "Checkpoint saved to checkpoint/model_epoch_30_p4.pth\n"
          ],
          "name": "stdout"
        }
      ]
    }
  ]
}